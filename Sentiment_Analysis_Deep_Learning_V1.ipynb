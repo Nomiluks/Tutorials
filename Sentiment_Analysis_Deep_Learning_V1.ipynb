{
  "nbformat": 4,
  "nbformat_minor": 0,
  "metadata": {
    "colab": {
      "name": "Sentiment_Analysis_Deep_Learning_V1.ipynb",
      "version": "0.3.2",
      "provenance": [],
      "collapsed_sections": [],
      "include_colab_link": true
    },
    "kernelspec": {
      "name": "python3",
      "display_name": "Python 3"
    }
  },
  "cells": [
    {
      "cell_type": "markdown",
      "metadata": {
        "id": "view-in-github",
        "colab_type": "text"
      },
      "source": [
        "<a href=\"https://colab.research.google.com/github/Nomiluks/Tutorials/blob/master/Sentiment_Analysis_Deep_Learning_V1.ipynb\" target=\"_parent\"><img src=\"https://colab.research.google.com/assets/colab-badge.svg\" alt=\"Open In Colab\"/></a>"
      ]
    },
    {
      "cell_type": "code",
      "metadata": {
        "id": "9wHkplX1XEqU",
        "colab_type": "code",
        "outputId": "e2f5870a-7747-4c68-bdf7-2735542b2dc8",
        "colab": {
          "base_uri": "https://localhost:8080/",
          "height": 34
        }
      },
      "source": [
        "from google.colab import drive\n",
        "drive.mount('/content/drive')"
      ],
      "execution_count": 1,
      "outputs": [
        {
          "output_type": "stream",
          "text": [
            "Drive already mounted at /content/drive; to attempt to forcibly remount, call drive.mount(\"/content/drive\", force_remount=True).\n"
          ],
          "name": "stdout"
        }
      ]
    },
    {
      "cell_type": "code",
      "metadata": {
        "id": "zyrOABelXGK-",
        "colab_type": "code",
        "outputId": "9e0fbd07-a2a7-4457-a56c-9f75a1dd6566",
        "colab": {
          "base_uri": "https://localhost:8080/",
          "height": 391
        }
      },
      "source": [
        "!ls \"/content/drive/My Drive/data\""
      ],
      "execution_count": 2,
      "outputs": [
        {
          "output_type": "stream",
          "text": [
            " Client_Labelled_Dataset.csv\n",
            " Dubai_RTA_Transport_Dataset.csv\n",
            " dubai_transport_2018_twitter.csv\n",
            " Dubai_Transport_Dataset_For_Labelling1.csv\n",
            "'Dubai_Transport_Dataset_For_Labelling_English (1).xlsx'\n",
            " Dubai_Transport_Dataset_For_Labelling_English.csv\n",
            " Dubai_Transport_Dataset_For_Labelling_English.xlsx\n",
            " Dubai_Transport_Twitter_Dataset.csv\n",
            " External_Source_Dataset.csv\n",
            " indian_election.csv\n",
            " negative-words.txt\n",
            " oman_tourism_2018_tripadvisor.csv\n",
            " oman_tourism_2018_twitter.csv\n",
            " Political_Dataset_1.csv\n",
            " Political_Dataset_2.csv\n",
            " SentiWordNet_3.0.0_20130122.txt\n",
            " SentiWordNet_3.0.0.txt\n",
            " training.1600000.processed.noemoticon.csv\n",
            " Twitter_Sample_Dataset_1.csv\n",
            " Twitter_Sample_Dataset.csv\n",
            " Un_labeled_Dataset_from_Client.csv\n",
            " Unsupervised_Labeled_Dataset.csv\n"
          ],
          "name": "stdout"
        }
      ]
    },
    {
      "cell_type": "markdown",
      "metadata": {
        "id": "S-m9LCCKg6q9",
        "colab_type": "text"
      },
      "source": [
        "**Installing the pre-processing Libraries**"
      ]
    },
    {
      "cell_type": "code",
      "metadata": {
        "id": "yhe1WphUUW0W",
        "colab_type": "code",
        "outputId": "453e4adb-3a24-4565-c953-69000d974dac",
        "colab": {
          "base_uri": "https://localhost:8080/",
          "height": 272
        }
      },
      "source": [
        "!pip install tweet-preprocessor\n",
        "!pip install emoji\n",
        "!pip install langdetect\n",
        "!pip install detectlanguage\n",
        "import nltk\n",
        "nltk.download('stopwords')\n",
        "nltk.download('wordnet')"
      ],
      "execution_count": 3,
      "outputs": [
        {
          "output_type": "stream",
          "text": [
            "Requirement already satisfied: tweet-preprocessor in /usr/local/lib/python3.6/dist-packages (0.5.0)\n",
            "Requirement already satisfied: emoji in /usr/local/lib/python3.6/dist-packages (0.5.2)\n",
            "Requirement already satisfied: langdetect in /usr/local/lib/python3.6/dist-packages (1.0.7)\n",
            "Requirement already satisfied: six in /usr/local/lib/python3.6/dist-packages (from langdetect) (1.12.0)\n",
            "Requirement already satisfied: detectlanguage in /usr/local/lib/python3.6/dist-packages (1.3.0)\n",
            "Requirement already satisfied: requests>=2.4.2 in /usr/local/lib/python3.6/dist-packages (from detectlanguage) (2.21.0)\n",
            "Requirement already satisfied: urllib3<1.25,>=1.21.1 in /usr/local/lib/python3.6/dist-packages (from requests>=2.4.2->detectlanguage) (1.24.3)\n",
            "Requirement already satisfied: certifi>=2017.4.17 in /usr/local/lib/python3.6/dist-packages (from requests>=2.4.2->detectlanguage) (2019.3.9)\n",
            "Requirement already satisfied: idna<2.9,>=2.5 in /usr/local/lib/python3.6/dist-packages (from requests>=2.4.2->detectlanguage) (2.8)\n",
            "Requirement already satisfied: chardet<3.1.0,>=3.0.2 in /usr/local/lib/python3.6/dist-packages (from requests>=2.4.2->detectlanguage) (3.0.4)\n",
            "[nltk_data] Downloading package stopwords to /root/nltk_data...\n",
            "[nltk_data]   Package stopwords is already up-to-date!\n",
            "[nltk_data] Downloading package wordnet to /root/nltk_data...\n",
            "[nltk_data]   Package wordnet is already up-to-date!\n"
          ],
          "name": "stdout"
        },
        {
          "output_type": "execute_result",
          "data": {
            "text/plain": [
              "True"
            ]
          },
          "metadata": {
            "tags": []
          },
          "execution_count": 3
        }
      ]
    },
    {
      "cell_type": "markdown",
      "metadata": {
        "id": "B1GS5stdhFHi",
        "colab_type": "text"
      },
      "source": [
        "**Creating functions for the Cleaning of the Tweet/Text**"
      ]
    },
    {
      "cell_type": "code",
      "metadata": {
        "id": "kKEpAQ95Jyrk",
        "colab_type": "code",
        "colab": {}
      },
      "source": [
        "import string\n",
        "import re\n",
        "import preprocessor as p\n",
        "from nltk.corpus import stopwords\n",
        "from nltk.stem import WordNetLemmatizer\n",
        "from nltk import sent_tokenize, word_tokenize, pos_tag\n",
        "lemma = WordNetLemmatizer()\n",
        "from bs4 import BeautifulSoup\n",
        "from langdetect import detect_langs\n",
        "import emoji\n",
        "lemma = WordNetLemmatizer()\n",
        "punctuation = list(string.punctuation)\n",
        "from langdetect import DetectorFactory\n",
        "DetectorFactory.seed = 0\n",
        "stop  = stopwords.words('english') + punctuation + ['rt', 'via', 'with', 'new', 'get', 'it', 'go']\n",
        "table = str.maketrans({key: None for key in string.punctuation})\n",
        "\n",
        "p.set_options(p.OPT.URL, p.OPT.NUMBER)\n",
        "def clean_function(x):\n",
        "  x=emoji.demojize(x)\n",
        "  x=p.clean(x)\n",
        "  return x\n",
        "\n",
        "\n",
        "def clean_tweet(x):\n",
        "    x = BeautifulSoup(x, 'html.parser')\n",
        "    x = x.get_text()   \n",
        "    x = emoji.demojize(x)\n",
        "    x = p.clean(x)\n",
        "    x = x.replace('#','')\n",
        "    x = x.replace('@','')\n",
        "    x = [i for i in x.lower().split() if i not in stop]\n",
        "    x = \" \".join(x)\n",
        "    x = re.sub(r\"[^A-Z/a-z0-9(),!?\\'\\`.]\", \" \", x)\n",
        "    x = re.sub((r\"^[\\W]*\"), \"\", x)\n",
        "    x = re.sub((r\"\\s[\\W]\\s\"), \", \", x)\n",
        "    x = [i for i in x.split() if len(i)>1]\n",
        "    x = \" \".join(x)\n",
        "    x = x.translate(table) \n",
        "\n",
        "    normalized   = \" \".join(lemma.lemmatize(word) for word in x.split())\n",
        "    return normalized\n",
        "  \n",
        "  \n",
        "from langdetect import detect\n",
        "def language_detection_new(x):\n",
        "  try:\n",
        "    x=detect(x)\n",
        "  except:\n",
        "    x='unknown'\n",
        "  return x\n",
        "\n",
        "def get_tweet_label(x):\n",
        "  return x.lower()\n",
        "\n",
        "def model_output(x):\n",
        "  return np.argmax(x)"
      ],
      "execution_count": 0,
      "outputs": []
    },
    {
      "cell_type": "markdown",
      "metadata": {
        "id": "vb9aQ5QDhUF2",
        "colab_type": "text"
      },
      "source": [
        "**Mounting the Google drive to the Notebook**"
      ]
    },
    {
      "cell_type": "code",
      "metadata": {
        "id": "BOtdBtpsKfMl",
        "colab_type": "code",
        "outputId": "ae8787ac-60ff-4a49-a84b-e8b590d18efe",
        "colab": {
          "base_uri": "https://localhost:8080/",
          "height": 34
        }
      },
      "source": [
        "from google.colab import drive\n",
        "drive.mount('/content/drive')"
      ],
      "execution_count": 5,
      "outputs": [
        {
          "output_type": "stream",
          "text": [
            "Drive already mounted at /content/drive; to attempt to forcibly remount, call drive.mount(\"/content/drive\", force_remount=True).\n"
          ],
          "name": "stdout"
        }
      ]
    },
    {
      "cell_type": "markdown",
      "metadata": {
        "id": "y-DauoUAhQrH",
        "colab_type": "text"
      },
      "source": [
        "**Reading the Dataset from the Mount Point**"
      ]
    },
    {
      "cell_type": "code",
      "metadata": {
        "id": "8TLvBo6gKFKx",
        "colab_type": "code",
        "outputId": "972e0c26-bb38-454d-b3d5-753192226b31",
        "colab": {
          "base_uri": "https://localhost:8080/",
          "height": 267
        }
      },
      "source": [
        "import pandas as pd\n",
        "import numpy as np\n",
        "df=pd.read_csv('/content/drive/My Drive/data/indian_election.csv', encoding='latin_1')\n",
        "df.head(2)"
      ],
      "execution_count": 6,
      "outputs": [
        {
          "output_type": "execute_result",
          "data": {
            "text/html": [
              "<div>\n",
              "<style scoped>\n",
              "    .dataframe tbody tr th:only-of-type {\n",
              "        vertical-align: middle;\n",
              "    }\n",
              "\n",
              "    .dataframe tbody tr th {\n",
              "        vertical-align: top;\n",
              "    }\n",
              "\n",
              "    .dataframe thead th {\n",
              "        text-align: right;\n",
              "    }\n",
              "</style>\n",
              "<table border=\"1\" class=\"dataframe\">\n",
              "  <thead>\n",
              "    <tr style=\"text-align: right;\">\n",
              "      <th></th>\n",
              "      <th>is_synced</th>\n",
              "      <th>politics_prob</th>\n",
              "      <th>u_bio</th>\n",
              "      <th>nonpolitics_prob</th>\n",
              "      <th>updated_at</th>\n",
              "      <th>u_website</th>\n",
              "      <th>p_picture</th>\n",
              "      <th>p_updated_at</th>\n",
              "      <th>p_shares</th>\n",
              "      <th>tweet_hashtags</th>\n",
              "      <th>p_created_at</th>\n",
              "      <th>u_longitude</th>\n",
              "      <th>u_profile_photo</th>\n",
              "      <th>u_posts</th>\n",
              "      <th>source</th>\n",
              "      <th>p_comments_text</th>\n",
              "      <th>sentiment_score</th>\n",
              "      <th>topic_id</th>\n",
              "      <th>u_fullname</th>\n",
              "      <th>p_likes</th>\n",
              "      <th>p_message</th>\n",
              "      <th>Label</th>\n",
              "      <th>query_hashtag</th>\n",
              "      <th>p_url</th>\n",
              "      <th>p_created_time</th>\n",
              "      <th>is_active</th>\n",
              "      <th>p_comments</th>\n",
              "      <th>is_link</th>\n",
              "      <th>is_validated</th>\n",
              "      <th>u_likes</th>\n",
              "      <th>u_date_joined</th>\n",
              "      <th>u_following</th>\n",
              "      <th>is_rechecked</th>\n",
              "      <th>u_verified</th>\n",
              "      <th>u_coordinates</th>\n",
              "      <th>created_at</th>\n",
              "      <th>p_id</th>\n",
              "      <th>p_is_shared</th>\n",
              "      <th>predicted_political_category</th>\n",
              "      <th>u_followers</th>\n",
              "      <th>u_location</th>\n",
              "      <th>query_string</th>\n",
              "      <th>predicted_sentiment_value</th>\n",
              "      <th>u_latitude</th>\n",
              "      <th>p_video_url</th>\n",
              "      <th>u_source</th>\n",
              "    </tr>\n",
              "  </thead>\n",
              "  <tbody>\n",
              "    <tr>\n",
              "      <th>0</th>\n",
              "      <td>NaN</td>\n",
              "      <td>0.27</td>\n",
              "      <td>Public Policy &amp; Political Affairs Analyst: Wit...</td>\n",
              "      <td>0.73</td>\n",
              "      <td>2019-05-07T09:34:13.625919</td>\n",
              "      <td>https://twitter.com/abhjoshi</td>\n",
              "      <td>NaN</td>\n",
              "      <td>2019-05-07T09:34:13.625919</td>\n",
              "      <td>0.0</td>\n",
              "      <td>#drought #farmers #agriculture #BhaJaPa #India...</td>\n",
              "      <td>2019-05-07T09:34:13.625919</td>\n",
              "      <td>78.667743</td>\n",
              "      <td>https://pbs.twimg.com/profile_images/104819996...</td>\n",
              "      <td>11304.0</td>\n",
              "      <td>Twitter</td>\n",
              "      <td>NaN</td>\n",
              "      <td>NaN</td>\n",
              "      <td>372</td>\n",
              "      <td>Abhishek Joshi</td>\n",
              "      <td>0.0</td>\n",
              "      <td>Banks are refusing loans to #drought hit #farm...</td>\n",
              "      <td>Negative</td>\n",
              "      <td>Indian Elections 2019</td>\n",
              "      <td>https://twitter.com/abhjoshi/status/1122826652...</td>\n",
              "      <td>2019-04-29T04:35:00</td>\n",
              "      <td>NaN</td>\n",
              "      <td>0.0</td>\n",
              "      <td>NaN</td>\n",
              "      <td>NaN</td>\n",
              "      <td>26.0</td>\n",
              "      <td>2011-10-07T04:40:00</td>\n",
              "      <td>119.0</td>\n",
              "      <td>NaN</td>\n",
              "      <td>False</td>\n",
              "      <td>NaN</td>\n",
              "      <td>2019-05-07T09:34:13.625919</td>\n",
              "      <td>1.12E+18</td>\n",
              "      <td>False</td>\n",
              "      <td>NOT</td>\n",
              "      <td>2228.0</td>\n",
              "      <td>INDIA</td>\n",
              "      <td>Indian election</td>\n",
              "      <td>NaN</td>\n",
              "      <td>22.351115</td>\n",
              "      <td>NaN</td>\n",
              "      <td>https://twitter.com/abhjoshi</td>\n",
              "    </tr>\n",
              "    <tr>\n",
              "      <th>1</th>\n",
              "      <td>NaN</td>\n",
              "      <td>0.32</td>\n",
              "      <td>Author~Political Observer~Always support Right...</td>\n",
              "      <td>0.68</td>\n",
              "      <td>2019-05-07T09:34:04.598634</td>\n",
              "      <td>https://www.instagram.com/AjaayGoel/</td>\n",
              "      <td>NaN</td>\n",
              "      <td>2019-05-07T09:34:04.598634</td>\n",
              "      <td>0.0</td>\n",
              "      <td>NaN</td>\n",
              "      <td>2019-05-07T09:34:04.598634</td>\n",
              "      <td>78.667743</td>\n",
              "      <td>https://pbs.twimg.com/profile_images/112060096...</td>\n",
              "      <td>35546.0</td>\n",
              "      <td>Twitter</td>\n",
              "      <td>NaN</td>\n",
              "      <td>NaN</td>\n",
              "      <td>372</td>\n",
              "      <td>Ajaay Goel</td>\n",
              "      <td>2.0</td>\n",
              "      <td>Why Modi and BJP so sure to win 2019 Elections...</td>\n",
              "      <td>Neutral</td>\n",
              "      <td>Indian Elections 2019</td>\n",
              "      <td>https://twitter.com/AjaayGoel24/status/1122827...</td>\n",
              "      <td>2019-04-29T04:36:00</td>\n",
              "      <td>NaN</td>\n",
              "      <td>1.0</td>\n",
              "      <td>NaN</td>\n",
              "      <td>NaN</td>\n",
              "      <td>59399.0</td>\n",
              "      <td>2009-06-13T08:21:00</td>\n",
              "      <td>4977.0</td>\n",
              "      <td>NaN</td>\n",
              "      <td>False</td>\n",
              "      <td>NaN</td>\n",
              "      <td>2019-05-07T09:34:04.598634</td>\n",
              "      <td>1.12E+18</td>\n",
              "      <td>False</td>\n",
              "      <td>NOT</td>\n",
              "      <td>184.0</td>\n",
              "      <td>India</td>\n",
              "      <td>Indian election</td>\n",
              "      <td>NaN</td>\n",
              "      <td>22.351115</td>\n",
              "      <td>NaN</td>\n",
              "      <td>https://twitter.com/AjaayGoel24</td>\n",
              "    </tr>\n",
              "  </tbody>\n",
              "</table>\n",
              "</div>"
            ],
            "text/plain": [
              "   is_synced  politics_prob  ... p_video_url                         u_source\n",
              "0        NaN           0.27  ...         NaN     https://twitter.com/abhjoshi\n",
              "1        NaN           0.32  ...         NaN  https://twitter.com/AjaayGoel24\n",
              "\n",
              "[2 rows x 46 columns]"
            ]
          },
          "metadata": {
            "tags": []
          },
          "execution_count": 6
        }
      ]
    },
    {
      "cell_type": "code",
      "metadata": {
        "id": "z5Z63C1A4ELU",
        "colab_type": "code",
        "colab": {}
      },
      "source": [
        "new_dataframe=pd.DataFrame()\n",
        "new_dataframe['Tweet']=df['p_message']\n",
        "new_dataframe['Label']=df['Label']\n",
        "new_dataframe=new_dataframe.dropna()\n",
        "new_dataframe['Language']=new_dataframe['Tweet'].apply(language_detection_new)\n",
        "#Keeping only the English Tweets from the Dataset\n",
        "new_dataframe=new_dataframe[new_dataframe.Language=='en']\n",
        "\n",
        "new_dataframe['Clean_Text']=new_dataframe['Tweet'].apply(clean_tweet)"
      ],
      "execution_count": 0,
      "outputs": []
    },
    {
      "cell_type": "code",
      "metadata": {
        "id": "raEEDKP14kP6",
        "colab_type": "code",
        "outputId": "1541e529-6aed-4901-d659-862a97296342",
        "colab": {
          "base_uri": "https://localhost:8080/",
          "height": 204
        }
      },
      "source": [
        "new_dataframe.head()"
      ],
      "execution_count": 8,
      "outputs": [
        {
          "output_type": "execute_result",
          "data": {
            "text/html": [
              "<div>\n",
              "<style scoped>\n",
              "    .dataframe tbody tr th:only-of-type {\n",
              "        vertical-align: middle;\n",
              "    }\n",
              "\n",
              "    .dataframe tbody tr th {\n",
              "        vertical-align: top;\n",
              "    }\n",
              "\n",
              "    .dataframe thead th {\n",
              "        text-align: right;\n",
              "    }\n",
              "</style>\n",
              "<table border=\"1\" class=\"dataframe\">\n",
              "  <thead>\n",
              "    <tr style=\"text-align: right;\">\n",
              "      <th></th>\n",
              "      <th>Tweet</th>\n",
              "      <th>Label</th>\n",
              "      <th>Language</th>\n",
              "      <th>Clean_Text</th>\n",
              "    </tr>\n",
              "  </thead>\n",
              "  <tbody>\n",
              "    <tr>\n",
              "      <th>0</th>\n",
              "      <td>Banks are refusing loans to #drought hit #farm...</td>\n",
              "      <td>Negative</td>\n",
              "      <td>en</td>\n",
              "      <td>bank refusing loan drought hit farmer priority...</td>\n",
              "    </tr>\n",
              "    <tr>\n",
              "      <th>1</th>\n",
              "      <td>Why Modi and BJP so sure to win 2019 Elections...</td>\n",
              "      <td>Neutral</td>\n",
              "      <td>en</td>\n",
              "      <td>modi bjp sure win election revelation</td>\n",
              "    </tr>\n",
              "    <tr>\n",
              "      <th>2</th>\n",
              "      <td>Caste your Vote or get out and make a Differen...</td>\n",
              "      <td>Positive</td>\n",
              "      <td>en</td>\n",
              "      <td>caste vote make difference indianelections2019...</td>\n",
              "    </tr>\n",
              "    <tr>\n",
              "      <th>3</th>\n",
              "      <td>And another one from @fazilkhan331 + @Sheikh_S...</td>\n",
              "      <td>Neutral</td>\n",
              "      <td>en</td>\n",
              "      <td>another one fazilkhan331 sheikh saaliq indiane...</td>\n",
              "    </tr>\n",
              "    <tr>\n",
              "      <th>4</th>\n",
              "      <td>More Pics: @iamsrk &amp; @gaurikhan clicked with L...</td>\n",
              "      <td>Neutral</td>\n",
              "      <td>en</td>\n",
              "      <td>pic iamsrk gaurikhan clicked little abram cast...</td>\n",
              "    </tr>\n",
              "  </tbody>\n",
              "</table>\n",
              "</div>"
            ],
            "text/plain": [
              "                                               Tweet  ...                                         Clean_Text\n",
              "0  Banks are refusing loans to #drought hit #farm...  ...  bank refusing loan drought hit farmer priority...\n",
              "1  Why Modi and BJP so sure to win 2019 Elections...  ...              modi bjp sure win election revelation\n",
              "2  Caste your Vote or get out and make a Differen...  ...  caste vote make difference indianelections2019...\n",
              "3  And another one from @fazilkhan331 + @Sheikh_S...  ...  another one fazilkhan331 sheikh saaliq indiane...\n",
              "4  More Pics: @iamsrk & @gaurikhan clicked with L...  ...  pic iamsrk gaurikhan clicked little abram cast...\n",
              "\n",
              "[5 rows x 4 columns]"
            ]
          },
          "metadata": {
            "tags": []
          },
          "execution_count": 8
        }
      ]
    },
    {
      "cell_type": "code",
      "metadata": {
        "id": "8zQsLIqT5MXw",
        "colab_type": "code",
        "outputId": "373be94b-f60f-489d-9623-7081d346309d",
        "colab": {
          "base_uri": "https://localhost:8080/",
          "height": 34
        }
      },
      "source": [
        "new_dataframe.shape"
      ],
      "execution_count": 9,
      "outputs": [
        {
          "output_type": "execute_result",
          "data": {
            "text/plain": [
              "(831, 4)"
            ]
          },
          "metadata": {
            "tags": []
          },
          "execution_count": 9
        }
      ]
    },
    {
      "cell_type": "markdown",
      "metadata": {
        "id": "qMHerxY0dAOH",
        "colab_type": "text"
      },
      "source": [
        "**Using Flair Word Embeddings **"
      ]
    },
    {
      "cell_type": "code",
      "metadata": {
        "id": "WFesgyKUbSeP",
        "colab_type": "code",
        "colab": {}
      },
      "source": [
        "!pip -q install flair"
      ],
      "execution_count": 0,
      "outputs": []
    },
    {
      "cell_type": "code",
      "metadata": {
        "id": "ClgF8xXbdJ0E",
        "colab_type": "code",
        "outputId": "048e4aeb-f6ef-4fad-b400-65cd2c163a6a",
        "colab": {
          "base_uri": "https://localhost:8080/",
          "height": 34
        }
      },
      "source": [
        "from flair.embeddings import WordEmbeddings\n",
        "\n",
        "# downloading the English Twitter embeddings model\n",
        "en_embedding = WordEmbeddings('en-twitter')"
      ],
      "execution_count": 11,
      "outputs": [
        {
          "output_type": "stream",
          "text": [
            "2019-05-19 18:49:34,422 this function is deprecated, use smart_open.open instead\n"
          ],
          "name": "stdout"
        }
      ]
    },
    {
      "cell_type": "code",
      "metadata": {
        "id": "IDKBUhBEdRks",
        "colab_type": "code",
        "colab": {}
      },
      "source": [
        "from flair.embeddings import WordEmbeddings, FlairEmbeddings, DocumentPoolEmbeddings, Sentence\n",
        "#converting the word embeddings for each sentence to document embedding using 'mean'\n",
        "document_embeddings = DocumentPoolEmbeddings([en_embedding])"
      ],
      "execution_count": 0,
      "outputs": []
    },
    {
      "cell_type": "code",
      "metadata": {
        "id": "zIgL_7aIdw8P",
        "colab_type": "code",
        "colab": {}
      },
      "source": [
        "sentence = Sentence('The grass is green . And the sky is blue .')\n",
        "\n",
        "document_embeddings.embed(sentence)"
      ],
      "execution_count": 0,
      "outputs": []
    },
    {
      "cell_type": "code",
      "metadata": {
        "id": "zJcqavyCd10h",
        "colab_type": "code",
        "outputId": "e5337dd4-b15e-4a0c-e8ef-f9d8aad408cb",
        "colab": {
          "base_uri": "https://localhost:8080/",
          "height": 34
        }
      },
      "source": [
        "len(sentence.get_embedding())"
      ],
      "execution_count": 14,
      "outputs": [
        {
          "output_type": "execute_result",
          "data": {
            "text/plain": [
              "100"
            ]
          },
          "metadata": {
            "tags": []
          },
          "execution_count": 14
        }
      ]
    },
    {
      "cell_type": "code",
      "metadata": {
        "id": "R6_qycl5d3CJ",
        "colab_type": "code",
        "colab": {}
      },
      "source": [
        "def get_sentence_embedding(x):\n",
        "  try:\n",
        "    sentence=Sentence(x)\n",
        "    document_embeddings.embed(sentence)\n",
        "    return np.array(sentence.get_embedding())\n",
        "  except:\n",
        "    return np.zeros(100)\n",
        "  "
      ],
      "execution_count": 0,
      "outputs": []
    },
    {
      "cell_type": "markdown",
      "metadata": {
        "id": "8VLh58YTeZ7V",
        "colab_type": "text"
      },
      "source": [
        "Sample Embeddings output"
      ]
    },
    {
      "cell_type": "code",
      "metadata": {
        "id": "AnfQuT1CeBrl",
        "colab_type": "code",
        "outputId": "d8a2ae5e-6634-4c8b-b268-e3a2896108f0",
        "colab": {
          "base_uri": "https://localhost:8080/",
          "height": 459
        }
      },
      "source": [
        "get_sentence_embedding('The grass is green . And the sky is blue .')"
      ],
      "execution_count": 16,
      "outputs": [
        {
          "output_type": "execute_result",
          "data": {
            "text/plain": [
              "array([-9.93069112e-02, -1.34626910e-01,  2.18430027e-01,  2.45591819e-01,\n",
              "       -1.41971812e-01,  4.12981629e-01, -2.28435084e-01, -1.79186389e-02,\n",
              "       -2.39931449e-01, -7.20176399e-02,  7.55842775e-02,  4.91699297e-03,\n",
              "       -4.25098133e+00, -1.98307261e-01,  2.12185159e-01,  9.30747315e-02,\n",
              "        3.01299453e-01,  1.35724898e-02, -1.21419452e-01, -1.96116075e-01,\n",
              "       -3.25855464e-01, -3.28485407e-02, -4.55643572e-02, -1.61668111e-04,\n",
              "        3.11907738e-01, -4.48498160e-01, -2.69164741e-01,  1.26205459e-01,\n",
              "        3.64723653e-01, -7.54852146e-02, -3.38018209e-01, -2.98062693e-02,\n",
              "       -3.43292892e-01, -4.03872617e-02,  1.33023947e-01, -1.80230923e-02,\n",
              "       -2.88112704e-02, -6.30979091e-02, -6.02829875e-03, -1.30605832e-01,\n",
              "       -9.42751825e-01, -1.13012344e-01, -3.24660808e-01,  2.23492563e-01,\n",
              "        6.30479097e-01, -3.95057052e-02,  2.81220347e-01,  1.83366001e-01,\n",
              "        1.48922995e-01, -1.75709620e-01, -2.02483997e-01, -1.53428540e-01,\n",
              "        1.57820001e-01, -1.19380377e-01, -1.82465225e-01, -2.21190918e-02,\n",
              "       -9.21350941e-02, -1.06833003e-01,  1.09310180e-01, -9.02097225e-02,\n",
              "       -2.11289838e-01, -4.96792756e-02, -2.67615467e-01, -7.96617270e-02,\n",
              "        1.03100918e-01, -9.19280946e-02, -1.50255278e-01, -1.55066714e-01,\n",
              "        7.56330937e-02, -2.46721804e-01,  4.47640806e-01, -1.19384550e-01,\n",
              "       -4.18973602e-02, -2.23819911e-02,  3.73857282e-02,  7.20709283e-03,\n",
              "       -3.50738168e-01,  2.32907340e-01, -2.21048549e-01,  4.46359540e-04,\n",
              "        1.69298363e+00,  5.24450876e-02,  3.96271870e-02, -8.61363485e-03,\n",
              "        2.81760901e-01, -1.49924569e-02, -7.24475384e-02,  2.73807257e-01,\n",
              "       -3.20572734e-01, -3.38357054e-02,  4.16748895e-04, -2.75631279e-01,\n",
              "        6.67051524e-02, -1.40937462e-01, -3.73958886e-01, -1.11678645e-01,\n",
              "        3.65468889e-01, -2.53667623e-01, -2.67700013e-02,  2.80571818e-01],\n",
              "      dtype=float32)"
            ]
          },
          "metadata": {
            "tags": []
          },
          "execution_count": 16
        }
      ]
    },
    {
      "cell_type": "code",
      "metadata": {
        "id": "-vVOAy4B6z9H",
        "colab_type": "code",
        "colab": {}
      },
      "source": [
        "new_dataframe['Embedding']=new_dataframe['Clean_Text'].apply(get_sentence_embedding)"
      ],
      "execution_count": 0,
      "outputs": []
    },
    {
      "cell_type": "code",
      "metadata": {
        "id": "ULL0iOvZhWGN",
        "colab_type": "code",
        "outputId": "4c0d932a-f2e5-4f0b-c830-afde91d43a74",
        "colab": {
          "base_uri": "https://localhost:8080/",
          "height": 204
        }
      },
      "source": [
        "new_dataframe.head()"
      ],
      "execution_count": 18,
      "outputs": [
        {
          "output_type": "execute_result",
          "data": {
            "text/html": [
              "<div>\n",
              "<style scoped>\n",
              "    .dataframe tbody tr th:only-of-type {\n",
              "        vertical-align: middle;\n",
              "    }\n",
              "\n",
              "    .dataframe tbody tr th {\n",
              "        vertical-align: top;\n",
              "    }\n",
              "\n",
              "    .dataframe thead th {\n",
              "        text-align: right;\n",
              "    }\n",
              "</style>\n",
              "<table border=\"1\" class=\"dataframe\">\n",
              "  <thead>\n",
              "    <tr style=\"text-align: right;\">\n",
              "      <th></th>\n",
              "      <th>Tweet</th>\n",
              "      <th>Label</th>\n",
              "      <th>Language</th>\n",
              "      <th>Clean_Text</th>\n",
              "      <th>Embedding</th>\n",
              "    </tr>\n",
              "  </thead>\n",
              "  <tbody>\n",
              "    <tr>\n",
              "      <th>0</th>\n",
              "      <td>Banks are refusing loans to #drought hit #farm...</td>\n",
              "      <td>Negative</td>\n",
              "      <td>en</td>\n",
              "      <td>bank refusing loan drought hit farmer priority...</td>\n",
              "      <td>[0.16026314, 0.0882285, 0.16123097, -0.1270487...</td>\n",
              "    </tr>\n",
              "    <tr>\n",
              "      <th>1</th>\n",
              "      <td>Why Modi and BJP so sure to win 2019 Elections...</td>\n",
              "      <td>Neutral</td>\n",
              "      <td>en</td>\n",
              "      <td>modi bjp sure win election revelation</td>\n",
              "      <td>[0.22818549, 0.8129783, 0.11859601, 0.10746799...</td>\n",
              "    </tr>\n",
              "    <tr>\n",
              "      <th>2</th>\n",
              "      <td>Caste your Vote or get out and make a Differen...</td>\n",
              "      <td>Positive</td>\n",
              "      <td>en</td>\n",
              "      <td>caste vote make difference indianelections2019...</td>\n",
              "      <td>[-0.089494504, 0.028712504, 0.119205, 0.198306...</td>\n",
              "    </tr>\n",
              "    <tr>\n",
              "      <th>3</th>\n",
              "      <td>And another one from @fazilkhan331 + @Sheikh_S...</td>\n",
              "      <td>Neutral</td>\n",
              "      <td>en</td>\n",
              "      <td>another one fazilkhan331 sheikh saaliq indiane...</td>\n",
              "      <td>[0.11204466, 0.0011766677, 0.11091683, 0.15985...</td>\n",
              "    </tr>\n",
              "    <tr>\n",
              "      <th>4</th>\n",
              "      <td>More Pics: @iamsrk &amp; @gaurikhan clicked with L...</td>\n",
              "      <td>Neutral</td>\n",
              "      <td>en</td>\n",
              "      <td>pic iamsrk gaurikhan clicked little abram cast...</td>\n",
              "      <td>[0.15090166, 0.26583132, -0.07382625, 0.023092...</td>\n",
              "    </tr>\n",
              "  </tbody>\n",
              "</table>\n",
              "</div>"
            ],
            "text/plain": [
              "                                               Tweet  ...                                          Embedding\n",
              "0  Banks are refusing loans to #drought hit #farm...  ...  [0.16026314, 0.0882285, 0.16123097, -0.1270487...\n",
              "1  Why Modi and BJP so sure to win 2019 Elections...  ...  [0.22818549, 0.8129783, 0.11859601, 0.10746799...\n",
              "2  Caste your Vote or get out and make a Differen...  ...  [-0.089494504, 0.028712504, 0.119205, 0.198306...\n",
              "3  And another one from @fazilkhan331 + @Sheikh_S...  ...  [0.11204466, 0.0011766677, 0.11091683, 0.15985...\n",
              "4  More Pics: @iamsrk & @gaurikhan clicked with L...  ...  [0.15090166, 0.26583132, -0.07382625, 0.023092...\n",
              "\n",
              "[5 rows x 5 columns]"
            ]
          },
          "metadata": {
            "tags": []
          },
          "execution_count": 18
        }
      ]
    },
    {
      "cell_type": "markdown",
      "metadata": {
        "id": "18ysBNJJelVQ",
        "colab_type": "text"
      },
      "source": [
        "Dataset Size Distribution"
      ]
    },
    {
      "cell_type": "code",
      "metadata": {
        "id": "WMYfG3Z3eHME",
        "colab_type": "code",
        "outputId": "4806d062-f906-4d14-a486-1e66e2a8b30f",
        "colab": {
          "base_uri": "https://localhost:8080/",
          "height": 102
        }
      },
      "source": [
        "new_dataframe.groupby('Label').size()"
      ],
      "execution_count": 19,
      "outputs": [
        {
          "output_type": "execute_result",
          "data": {
            "text/plain": [
              "Label\n",
              "Negative     89\n",
              "Neutral     567\n",
              "Positive    175\n",
              "dtype: int64"
            ]
          },
          "metadata": {
            "tags": []
          },
          "execution_count": 19
        }
      ]
    },
    {
      "cell_type": "markdown",
      "metadata": {
        "id": "pqSTXgE4a-bM",
        "colab_type": "text"
      },
      "source": [
        "# Data Structuring for Neural Nets"
      ]
    },
    {
      "cell_type": "code",
      "metadata": {
        "id": "iE_6NYt0geK7",
        "colab_type": "code",
        "colab": {
          "base_uri": "https://localhost:8080/",
          "height": 34
        },
        "outputId": "796fe45a-6bd1-4d4a-a25b-e144737ad74e"
      },
      "source": [
        "from sklearn import preprocessing\n",
        "from numpy import array\n",
        "from sklearn.model_selection import train_test_split \n",
        "import keras"
      ],
      "execution_count": 20,
      "outputs": [
        {
          "output_type": "stream",
          "text": [
            "Using TensorFlow backend.\n"
          ],
          "name": "stderr"
        }
      ]
    },
    {
      "cell_type": "code",
      "metadata": {
        "id": "4ij4SioUejuC",
        "colab_type": "code",
        "colab": {}
      },
      "source": [
        "le = preprocessing.LabelEncoder()\n",
        "X_train = np.stack(new_dataframe['Embedding'])\n",
        "\n",
        "y_train = new_dataframe['Label'].values.tolist()\n",
        "le.fit(y_train)\n",
        "y_train=le.transform(y_train)\n",
        "\n",
        "X_train, X_test, y_train, y_test = train_test_split(X_train, y_train, test_size=0.20, random_state=42)\n",
        "\n",
        "# y_train = keras.utils.to_categorical(y_train, num_classes=3)\n",
        "# y_test  = keras.utils.to_categorical(y_test, num_classes=3)"
      ],
      "execution_count": 0,
      "outputs": []
    },
    {
      "cell_type": "code",
      "metadata": {
        "id": "uXrzCPdmQjL6",
        "colab_type": "code",
        "outputId": "6aeab167-3697-4af2-9170-158330829623",
        "colab": {
          "base_uri": "https://localhost:8080/",
          "height": 34
        }
      },
      "source": [
        "(X_train.shape, y_train.shape), (X_test.shape, y_test.shape)"
      ],
      "execution_count": 36,
      "outputs": [
        {
          "output_type": "execute_result",
          "data": {
            "text/plain": [
              "(((664, 100), (664,)), ((167, 100), (167,)))"
            ]
          },
          "metadata": {
            "tags": []
          },
          "execution_count": 36
        }
      ]
    },
    {
      "cell_type": "markdown",
      "metadata": {
        "id": "DV3yrsF6ei_t",
        "colab_type": "text"
      },
      "source": [
        "# Class Balancing"
      ]
    },
    {
      "cell_type": "code",
      "metadata": {
        "id": "P8hw9H6HeiJp",
        "colab_type": "code",
        "colab": {
          "base_uri": "https://localhost:8080/",
          "height": 34
        },
        "outputId": "9aab8605-b709-4752-9667-788969204d6e"
      },
      "source": [
        "from sklearn.utils import class_weight\n",
        "\n",
        "class_weights = class_weight.compute_class_weight('balanced',\n",
        "                                                   np.unique(y_train),\n",
        "                                                   y_train)\n",
        "class_weights"
      ],
      "execution_count": 50,
      "outputs": [
        {
          "output_type": "execute_result",
          "data": {
            "text/plain": [
              "array([2.83760684, 0.4822077 , 1.74278215])"
            ]
          },
          "metadata": {
            "tags": []
          },
          "execution_count": 50
        }
      ]
    },
    {
      "cell_type": "markdown",
      "metadata": {
        "id": "kIA_8-IyZuKS",
        "colab_type": "text"
      },
      "source": [
        "# **Fully-Connected Network**"
      ]
    },
    {
      "cell_type": "code",
      "metadata": {
        "id": "q3qr3ms3fbbG",
        "colab_type": "code",
        "outputId": "cbb74e9e-cdbe-44ec-d527-f951b06835e6",
        "colab": {
          "base_uri": "https://localhost:8080/",
          "height": 3774
        }
      },
      "source": [
        "import tensorflow as tf\n",
        "from keras.layers.normalization import BatchNormalization\n",
        "from keras.models import Sequential\n",
        "from keras.layers import Dense, Dropout, Activation\n",
        "from keras.callbacks import EarlyStopping\n",
        "\n",
        "\n",
        "def generate_sample_weights(training_data, class_weight_dictionary): \n",
        "    sample_weights = [class_weight_dictionary[np.where(one_hot_row==1)[0][0]] for one_hot_row in training_data]\n",
        "    return np.asarray(sample_weights)\n",
        "  \n",
        "class myCallback(tf.keras.callbacks.Callback):\n",
        "  def on_epoch_end(self, epoch, logs={}):\n",
        "    if(logs.get('val_acc')>=0.85):\n",
        "      print(\"Reached 85% accuracy so cancelling training!\")\n",
        "      self.model.stop_training = True\n",
        "      \n",
        "callbacks = myCallback()\n",
        "\n",
        "model = Sequential()\n",
        "model.add(Dense(512, input_dim=100))\n",
        "model.add(BatchNormalization())\n",
        "model.add(Activation('relu'))\n",
        "model.add(Dropout(0.5))\n",
        "\n",
        "model.add(Dense(3))\n",
        "model.add(Activation('softmax'))\n",
        "\n",
        "model.compile(loss='sparse_categorical_crossentropy',\n",
        "              optimizer='adam',\n",
        "              metrics=['acc'])\n",
        "\n",
        "print(model.summary())\n",
        "\n",
        "history = model.fit(X_train, y_train,\n",
        "          epochs=100,\n",
        "          callbacks=[callbacks],\n",
        "          shuffle=True,\n",
        "          validation_split=0.3,\n",
        "          class_weight = 'auto'\n",
        "          # class_weight=class_weights\n",
        "         )"
      ],
      "execution_count": 62,
      "outputs": [
        {
          "output_type": "stream",
          "text": [
            "_________________________________________________________________\n",
            "Layer (type)                 Output Shape              Param #   \n",
            "=================================================================\n",
            "dense_43 (Dense)             (None, 512)               51712     \n",
            "_________________________________________________________________\n",
            "batch_normalization_26 (Batc (None, 512)               2048      \n",
            "_________________________________________________________________\n",
            "activation_43 (Activation)   (None, 512)               0         \n",
            "_________________________________________________________________\n",
            "dropout_26 (Dropout)         (None, 512)               0         \n",
            "_________________________________________________________________\n",
            "dense_44 (Dense)             (None, 3)                 1539      \n",
            "_________________________________________________________________\n",
            "activation_44 (Activation)   (None, 3)                 0         \n",
            "=================================================================\n",
            "Total params: 55,299\n",
            "Trainable params: 54,275\n",
            "Non-trainable params: 1,024\n",
            "_________________________________________________________________\n",
            "None\n",
            "Train on 464 samples, validate on 200 samples\n",
            "Epoch 1/100\n",
            "464/464 [==============================] - 3s 6ms/step - loss: 1.1207 - acc: 0.5216 - val_loss: 0.7388 - val_acc: 0.7450\n",
            "Epoch 2/100\n",
            "464/464 [==============================] - 0s 147us/step - loss: 0.7306 - acc: 0.7091 - val_loss: 0.6897 - val_acc: 0.7400\n",
            "Epoch 3/100\n",
            "464/464 [==============================] - 0s 142us/step - loss: 0.6001 - acc: 0.7651 - val_loss: 0.6751 - val_acc: 0.7500\n",
            "Epoch 4/100\n",
            "464/464 [==============================] - 0s 136us/step - loss: 0.5550 - acc: 0.7780 - val_loss: 0.6610 - val_acc: 0.7500\n",
            "Epoch 5/100\n",
            "464/464 [==============================] - 0s 153us/step - loss: 0.4621 - acc: 0.8254 - val_loss: 0.6944 - val_acc: 0.7300\n",
            "Epoch 6/100\n",
            "464/464 [==============================] - 0s 134us/step - loss: 0.4193 - acc: 0.8405 - val_loss: 0.6688 - val_acc: 0.7450\n",
            "Epoch 7/100\n",
            "464/464 [==============================] - 0s 141us/step - loss: 0.3951 - acc: 0.8599 - val_loss: 0.6607 - val_acc: 0.7300\n",
            "Epoch 8/100\n",
            "464/464 [==============================] - 0s 165us/step - loss: 0.3627 - acc: 0.8664 - val_loss: 0.6944 - val_acc: 0.7450\n",
            "Epoch 9/100\n",
            "464/464 [==============================] - 0s 137us/step - loss: 0.3200 - acc: 0.8879 - val_loss: 0.6879 - val_acc: 0.7350\n",
            "Epoch 10/100\n",
            "464/464 [==============================] - 0s 142us/step - loss: 0.3252 - acc: 0.8793 - val_loss: 0.7220 - val_acc: 0.7350\n",
            "Epoch 11/100\n",
            "464/464 [==============================] - 0s 139us/step - loss: 0.2714 - acc: 0.8966 - val_loss: 0.7277 - val_acc: 0.7300\n",
            "Epoch 12/100\n",
            "464/464 [==============================] - 0s 167us/step - loss: 0.3073 - acc: 0.8922 - val_loss: 0.7254 - val_acc: 0.7500\n",
            "Epoch 13/100\n",
            "464/464 [==============================] - 0s 127us/step - loss: 0.2705 - acc: 0.8944 - val_loss: 0.7233 - val_acc: 0.7250\n",
            "Epoch 14/100\n",
            "464/464 [==============================] - 0s 147us/step - loss: 0.2620 - acc: 0.8987 - val_loss: 0.7231 - val_acc: 0.7350\n",
            "Epoch 15/100\n",
            "464/464 [==============================] - 0s 143us/step - loss: 0.2274 - acc: 0.9052 - val_loss: 0.7099 - val_acc: 0.7350\n",
            "Epoch 16/100\n",
            "464/464 [==============================] - 0s 141us/step - loss: 0.2163 - acc: 0.9375 - val_loss: 0.7915 - val_acc: 0.6850\n",
            "Epoch 17/100\n",
            "464/464 [==============================] - 0s 141us/step - loss: 0.2055 - acc: 0.9181 - val_loss: 0.7893 - val_acc: 0.7150\n",
            "Epoch 18/100\n",
            "464/464 [==============================] - 0s 142us/step - loss: 0.2204 - acc: 0.9095 - val_loss: 0.7466 - val_acc: 0.7150\n",
            "Epoch 19/100\n",
            "464/464 [==============================] - 0s 137us/step - loss: 0.1608 - acc: 0.9569 - val_loss: 0.7484 - val_acc: 0.7350\n",
            "Epoch 20/100\n",
            "464/464 [==============================] - 0s 148us/step - loss: 0.1874 - acc: 0.9397 - val_loss: 0.7558 - val_acc: 0.7300\n",
            "Epoch 21/100\n",
            "464/464 [==============================] - 0s 143us/step - loss: 0.1554 - acc: 0.9526 - val_loss: 0.7778 - val_acc: 0.7400\n",
            "Epoch 22/100\n",
            "464/464 [==============================] - 0s 129us/step - loss: 0.1547 - acc: 0.9461 - val_loss: 0.7431 - val_acc: 0.7350\n",
            "Epoch 23/100\n",
            "464/464 [==============================] - 0s 139us/step - loss: 0.1460 - acc: 0.9569 - val_loss: 0.7721 - val_acc: 0.7250\n",
            "Epoch 24/100\n",
            "464/464 [==============================] - 0s 141us/step - loss: 0.1405 - acc: 0.9591 - val_loss: 0.7656 - val_acc: 0.7250\n",
            "Epoch 25/100\n",
            "464/464 [==============================] - 0s 141us/step - loss: 0.1260 - acc: 0.9612 - val_loss: 0.7658 - val_acc: 0.7200\n",
            "Epoch 26/100\n",
            "464/464 [==============================] - 0s 145us/step - loss: 0.1346 - acc: 0.9504 - val_loss: 0.8107 - val_acc: 0.7400\n",
            "Epoch 27/100\n",
            "464/464 [==============================] - 0s 145us/step - loss: 0.1187 - acc: 0.9698 - val_loss: 0.8033 - val_acc: 0.7550\n",
            "Epoch 28/100\n",
            "464/464 [==============================] - 0s 143us/step - loss: 0.1246 - acc: 0.9547 - val_loss: 0.8167 - val_acc: 0.7550\n",
            "Epoch 29/100\n",
            "464/464 [==============================] - 0s 147us/step - loss: 0.1012 - acc: 0.9720 - val_loss: 0.7940 - val_acc: 0.7150\n",
            "Epoch 30/100\n",
            "464/464 [==============================] - 0s 145us/step - loss: 0.0986 - acc: 0.9720 - val_loss: 0.8389 - val_acc: 0.7500\n",
            "Epoch 31/100\n",
            "464/464 [==============================] - 0s 152us/step - loss: 0.0935 - acc: 0.9741 - val_loss: 0.8493 - val_acc: 0.7250\n",
            "Epoch 32/100\n",
            "464/464 [==============================] - 0s 145us/step - loss: 0.0881 - acc: 0.9763 - val_loss: 0.8402 - val_acc: 0.7200\n",
            "Epoch 33/100\n",
            "464/464 [==============================] - 0s 138us/step - loss: 0.1096 - acc: 0.9634 - val_loss: 0.8140 - val_acc: 0.7050\n",
            "Epoch 34/100\n",
            "464/464 [==============================] - 0s 141us/step - loss: 0.1034 - acc: 0.9763 - val_loss: 0.9545 - val_acc: 0.7500\n",
            "Epoch 35/100\n",
            "464/464 [==============================] - 0s 136us/step - loss: 0.0921 - acc: 0.9784 - val_loss: 0.9691 - val_acc: 0.7350\n",
            "Epoch 36/100\n",
            "464/464 [==============================] - 0s 149us/step - loss: 0.0815 - acc: 0.9806 - val_loss: 0.9425 - val_acc: 0.7250\n",
            "Epoch 37/100\n",
            "464/464 [==============================] - 0s 139us/step - loss: 0.0761 - acc: 0.9741 - val_loss: 0.9177 - val_acc: 0.7250\n",
            "Epoch 38/100\n",
            "464/464 [==============================] - 0s 133us/step - loss: 0.0619 - acc: 0.9871 - val_loss: 0.8753 - val_acc: 0.7400\n",
            "Epoch 39/100\n",
            "464/464 [==============================] - 0s 141us/step - loss: 0.0866 - acc: 0.9741 - val_loss: 0.8904 - val_acc: 0.7450\n",
            "Epoch 40/100\n",
            "464/464 [==============================] - 0s 140us/step - loss: 0.0659 - acc: 0.9784 - val_loss: 0.8980 - val_acc: 0.6950\n",
            "Epoch 41/100\n",
            "464/464 [==============================] - 0s 185us/step - loss: 0.0792 - acc: 0.9763 - val_loss: 0.9802 - val_acc: 0.7200\n",
            "Epoch 42/100\n",
            "464/464 [==============================] - 0s 135us/step - loss: 0.0598 - acc: 0.9871 - val_loss: 0.9395 - val_acc: 0.6900\n",
            "Epoch 43/100\n",
            "464/464 [==============================] - 0s 136us/step - loss: 0.0525 - acc: 0.9935 - val_loss: 0.9727 - val_acc: 0.7300\n",
            "Epoch 44/100\n",
            "464/464 [==============================] - 0s 137us/step - loss: 0.0548 - acc: 0.9914 - val_loss: 0.9491 - val_acc: 0.7300\n",
            "Epoch 45/100\n",
            "464/464 [==============================] - 0s 137us/step - loss: 0.0596 - acc: 0.9871 - val_loss: 0.9186 - val_acc: 0.7150\n",
            "Epoch 46/100\n",
            "464/464 [==============================] - 0s 141us/step - loss: 0.0612 - acc: 0.9849 - val_loss: 1.0776 - val_acc: 0.6600\n",
            "Epoch 47/100\n",
            "464/464 [==============================] - 0s 144us/step - loss: 0.0521 - acc: 0.9849 - val_loss: 1.0407 - val_acc: 0.7150\n",
            "Epoch 48/100\n",
            "464/464 [==============================] - 0s 148us/step - loss: 0.0517 - acc: 0.9849 - val_loss: 1.0296 - val_acc: 0.7200\n",
            "Epoch 49/100\n",
            "464/464 [==============================] - 0s 134us/step - loss: 0.0503 - acc: 0.9935 - val_loss: 1.0303 - val_acc: 0.7200\n",
            "Epoch 50/100\n",
            "464/464 [==============================] - 0s 136us/step - loss: 0.0623 - acc: 0.9784 - val_loss: 1.0305 - val_acc: 0.7250\n",
            "Epoch 51/100\n",
            "464/464 [==============================] - 0s 140us/step - loss: 0.0488 - acc: 0.9914 - val_loss: 1.0284 - val_acc: 0.7300\n",
            "Epoch 52/100\n",
            "464/464 [==============================] - 0s 146us/step - loss: 0.0502 - acc: 0.9871 - val_loss: 1.0334 - val_acc: 0.7200\n",
            "Epoch 53/100\n",
            "464/464 [==============================] - 0s 135us/step - loss: 0.0397 - acc: 0.9892 - val_loss: 1.0882 - val_acc: 0.7150\n",
            "Epoch 54/100\n",
            "464/464 [==============================] - 0s 137us/step - loss: 0.0508 - acc: 0.9871 - val_loss: 1.1465 - val_acc: 0.7200\n",
            "Epoch 55/100\n",
            "464/464 [==============================] - 0s 135us/step - loss: 0.0494 - acc: 0.9892 - val_loss: 1.0818 - val_acc: 0.7250\n",
            "Epoch 56/100\n",
            "464/464 [==============================] - 0s 136us/step - loss: 0.0457 - acc: 0.9914 - val_loss: 1.0537 - val_acc: 0.7300\n",
            "Epoch 57/100\n",
            "464/464 [==============================] - 0s 130us/step - loss: 0.0418 - acc: 0.9914 - val_loss: 1.0966 - val_acc: 0.7350\n",
            "Epoch 58/100\n",
            "464/464 [==============================] - 0s 131us/step - loss: 0.0662 - acc: 0.9784 - val_loss: 1.1103 - val_acc: 0.7450\n",
            "Epoch 59/100\n",
            "464/464 [==============================] - 0s 138us/step - loss: 0.0449 - acc: 0.9914 - val_loss: 1.0906 - val_acc: 0.7150\n",
            "Epoch 60/100\n",
            "464/464 [==============================] - 0s 134us/step - loss: 0.0489 - acc: 0.9914 - val_loss: 1.0316 - val_acc: 0.7350\n",
            "Epoch 61/100\n",
            "464/464 [==============================] - 0s 160us/step - loss: 0.0475 - acc: 0.9871 - val_loss: 1.0568 - val_acc: 0.7350\n",
            "Epoch 62/100\n",
            "464/464 [==============================] - 0s 139us/step - loss: 0.0397 - acc: 0.9892 - val_loss: 1.0879 - val_acc: 0.7300\n",
            "Epoch 63/100\n",
            "464/464 [==============================] - 0s 134us/step - loss: 0.0380 - acc: 0.9914 - val_loss: 1.0624 - val_acc: 0.7250\n",
            "Epoch 64/100\n",
            "464/464 [==============================] - 0s 126us/step - loss: 0.0511 - acc: 0.9892 - val_loss: 1.1009 - val_acc: 0.7150\n",
            "Epoch 65/100\n",
            "464/464 [==============================] - 0s 132us/step - loss: 0.0370 - acc: 0.9957 - val_loss: 1.2238 - val_acc: 0.6850\n",
            "Epoch 66/100\n",
            "464/464 [==============================] - 0s 130us/step - loss: 0.0396 - acc: 0.9892 - val_loss: 1.1424 - val_acc: 0.7250\n",
            "Epoch 67/100\n",
            "464/464 [==============================] - 0s 134us/step - loss: 0.0450 - acc: 0.9914 - val_loss: 1.1165 - val_acc: 0.7150\n",
            "Epoch 68/100\n",
            "464/464 [==============================] - 0s 132us/step - loss: 0.0418 - acc: 0.9871 - val_loss: 1.1201 - val_acc: 0.7200\n",
            "Epoch 69/100\n",
            "464/464 [==============================] - 0s 131us/step - loss: 0.0337 - acc: 0.9892 - val_loss: 1.1294 - val_acc: 0.7300\n",
            "Epoch 70/100\n",
            "464/464 [==============================] - 0s 128us/step - loss: 0.0301 - acc: 0.9914 - val_loss: 1.1709 - val_acc: 0.7200\n",
            "Epoch 71/100\n",
            "464/464 [==============================] - 0s 131us/step - loss: 0.0447 - acc: 0.9892 - val_loss: 1.1250 - val_acc: 0.7200\n",
            "Epoch 72/100\n",
            "464/464 [==============================] - 0s 132us/step - loss: 0.0429 - acc: 0.9871 - val_loss: 1.1257 - val_acc: 0.7300\n",
            "Epoch 73/100\n",
            "464/464 [==============================] - 0s 125us/step - loss: 0.0258 - acc: 0.9957 - val_loss: 1.1975 - val_acc: 0.7100\n",
            "Epoch 74/100\n",
            "464/464 [==============================] - 0s 132us/step - loss: 0.0452 - acc: 0.9871 - val_loss: 1.1777 - val_acc: 0.7250\n",
            "Epoch 75/100\n",
            "464/464 [==============================] - 0s 133us/step - loss: 0.0303 - acc: 0.9914 - val_loss: 1.1537 - val_acc: 0.7200\n",
            "Epoch 76/100\n",
            "464/464 [==============================] - 0s 131us/step - loss: 0.0339 - acc: 0.9914 - val_loss: 1.1495 - val_acc: 0.7300\n",
            "Epoch 77/100\n",
            "464/464 [==============================] - 0s 145us/step - loss: 0.0236 - acc: 0.9957 - val_loss: 1.1494 - val_acc: 0.7150\n",
            "Epoch 78/100\n",
            "464/464 [==============================] - 0s 140us/step - loss: 0.0338 - acc: 0.9892 - val_loss: 1.1635 - val_acc: 0.7250\n",
            "Epoch 79/100\n",
            "464/464 [==============================] - 0s 141us/step - loss: 0.0453 - acc: 0.9892 - val_loss: 1.1415 - val_acc: 0.7350\n",
            "Epoch 80/100\n",
            "464/464 [==============================] - 0s 136us/step - loss: 0.0291 - acc: 0.9914 - val_loss: 1.1779 - val_acc: 0.7350\n",
            "Epoch 81/100\n",
            "464/464 [==============================] - 0s 136us/step - loss: 0.0333 - acc: 0.9914 - val_loss: 1.2264 - val_acc: 0.7250\n",
            "Epoch 82/100\n",
            "464/464 [==============================] - 0s 136us/step - loss: 0.0252 - acc: 0.9914 - val_loss: 1.1986 - val_acc: 0.7150\n",
            "Epoch 83/100\n",
            "464/464 [==============================] - 0s 145us/step - loss: 0.0184 - acc: 0.9957 - val_loss: 1.1991 - val_acc: 0.7150\n",
            "Epoch 84/100\n",
            "464/464 [==============================] - 0s 149us/step - loss: 0.0246 - acc: 0.9957 - val_loss: 1.2213 - val_acc: 0.7200\n",
            "Epoch 85/100\n",
            "464/464 [==============================] - 0s 142us/step - loss: 0.0347 - acc: 0.9914 - val_loss: 1.2054 - val_acc: 0.7350\n",
            "Epoch 86/100\n",
            "464/464 [==============================] - 0s 129us/step - loss: 0.0389 - acc: 0.9871 - val_loss: 1.1535 - val_acc: 0.7300\n",
            "Epoch 87/100\n",
            "464/464 [==============================] - 0s 141us/step - loss: 0.0332 - acc: 0.9892 - val_loss: 1.1186 - val_acc: 0.7100\n",
            "Epoch 88/100\n",
            "464/464 [==============================] - 0s 142us/step - loss: 0.0259 - acc: 0.9957 - val_loss: 1.1638 - val_acc: 0.7500\n",
            "Epoch 89/100\n",
            "464/464 [==============================] - 0s 161us/step - loss: 0.0211 - acc: 0.9957 - val_loss: 1.1970 - val_acc: 0.7300\n",
            "Epoch 90/100\n",
            "464/464 [==============================] - 0s 136us/step - loss: 0.0239 - acc: 0.9935 - val_loss: 1.2073 - val_acc: 0.7000\n",
            "Epoch 91/100\n",
            "464/464 [==============================] - 0s 135us/step - loss: 0.0243 - acc: 0.9914 - val_loss: 1.2817 - val_acc: 0.7350\n",
            "Epoch 92/100\n",
            "464/464 [==============================] - 0s 134us/step - loss: 0.0181 - acc: 0.9978 - val_loss: 1.2361 - val_acc: 0.7200\n",
            "Epoch 93/100\n",
            "464/464 [==============================] - 0s 137us/step - loss: 0.0389 - acc: 0.9871 - val_loss: 1.2520 - val_acc: 0.7250\n",
            "Epoch 94/100\n",
            "464/464 [==============================] - 0s 140us/step - loss: 0.0257 - acc: 0.9978 - val_loss: 1.2629 - val_acc: 0.7250\n",
            "Epoch 95/100\n",
            "464/464 [==============================] - 0s 149us/step - loss: 0.0136 - acc: 1.0000 - val_loss: 1.2342 - val_acc: 0.7300\n",
            "Epoch 96/100\n",
            "464/464 [==============================] - 0s 144us/step - loss: 0.0268 - acc: 0.9935 - val_loss: 1.2458 - val_acc: 0.7300\n",
            "Epoch 97/100\n",
            "464/464 [==============================] - 0s 144us/step - loss: 0.0220 - acc: 0.9978 - val_loss: 1.2240 - val_acc: 0.7200\n",
            "Epoch 98/100\n",
            "464/464 [==============================] - 0s 144us/step - loss: 0.0236 - acc: 0.9935 - val_loss: 1.3785 - val_acc: 0.7200\n",
            "Epoch 99/100\n",
            "464/464 [==============================] - 0s 137us/step - loss: 0.0441 - acc: 0.9914 - val_loss: 1.3806 - val_acc: 0.7150\n",
            "Epoch 100/100\n",
            "464/464 [==============================] - 0s 133us/step - loss: 0.0255 - acc: 0.9914 - val_loss: 1.3106 - val_acc: 0.7200\n"
          ],
          "name": "stdout"
        }
      ]
    },
    {
      "cell_type": "code",
      "metadata": {
        "id": "aiTcmpLZhuM0",
        "colab_type": "code",
        "colab": {
          "base_uri": "https://localhost:8080/",
          "height": 51
        },
        "outputId": "3190dc63-a83a-418e-b76c-22a24f558d0d"
      },
      "source": [
        "loss, accuracy = model.evaluate(X_train, y_train, verbose=False)\n",
        "print(\"Training Accuracy: {:.4f}\".format(accuracy))\n",
        "loss, accuracy = model.evaluate(X_test, y_test, verbose=False)\n",
        "print(\"Testing Accuracy:  {:.4f}\".format(accuracy))"
      ],
      "execution_count": 63,
      "outputs": [
        {
          "output_type": "stream",
          "text": [
            "Training Accuracy: 0.9127\n",
            "Testing Accuracy:  0.7246\n"
          ],
          "name": "stdout"
        }
      ]
    },
    {
      "cell_type": "markdown",
      "metadata": {
        "id": "gtBmeyI5ZMei",
        "colab_type": "text"
      },
      "source": [
        "**Evaluation**"
      ]
    },
    {
      "cell_type": "code",
      "metadata": {
        "id": "x1ALdRoIYyLE",
        "colab_type": "code",
        "colab": {
          "base_uri": "https://localhost:8080/",
          "height": 272
        },
        "outputId": "00a2703a-d972-42f7-fc68-034dfc58746e"
      },
      "source": [
        "from sklearn.metrics import classification_report, confusion_matrix\n",
        "y_pred = model.predict(X_test)\n",
        "y_pred = np.argmax(y_pred, axis=1)\n",
        "\n",
        "print('Confusion Matrix')\n",
        "print(confusion_matrix(y_test, y_pred))\n",
        "print('Classification Report')\n",
        "target_names = ['Negative', 'Neutral', 'Positive']\n",
        "print(classification_report(y_test, y_pred, target_names=target_names))"
      ],
      "execution_count": 64,
      "outputs": [
        {
          "output_type": "stream",
          "text": [
            "Confusion Matrix\n",
            "[[ 2  9  0]\n",
            " [ 0 96 12]\n",
            " [ 0 25 23]]\n",
            "Classification Report\n",
            "              precision    recall  f1-score   support\n",
            "\n",
            "    Negative       1.00      0.18      0.31        11\n",
            "     Neutral       0.74      0.89      0.81       108\n",
            "    Positive       0.66      0.48      0.55        48\n",
            "\n",
            "   micro avg       0.72      0.72      0.72       167\n",
            "   macro avg       0.80      0.52      0.56       167\n",
            "weighted avg       0.73      0.72      0.70       167\n",
            "\n"
          ],
          "name": "stdout"
        }
      ]
    },
    {
      "cell_type": "markdown",
      "metadata": {
        "id": "Za9K10KrZ2R6",
        "colab_type": "text"
      },
      "source": [
        "# **Convolutional Neural Network**"
      ]
    },
    {
      "cell_type": "code",
      "metadata": {
        "id": "3eEMoh-waY_r",
        "colab_type": "code",
        "colab": {}
      },
      "source": [
        "# will do it in next phase"
      ],
      "execution_count": 0,
      "outputs": []
    }
  ]
}